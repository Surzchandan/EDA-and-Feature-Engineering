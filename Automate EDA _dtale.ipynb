{
 "cells": [
  {
   "cell_type": "code",
   "execution_count": 1,
   "metadata": {
    "colab": {
     "base_uri": "https://localhost:8080/"
    },
    "id": "SS7kRih8aIk-",
    "outputId": "ad82e885-30b5-43b5-eda4-f1ccc79e3fef"
   },
   "outputs": [
    {
     "name": "stdout",
     "output_type": "stream",
     "text": [
      "Requirement already satisfied: dtale in c:\\system.sav\\anaconda\\lib\\site-packages (2.4.0)\n",
      "Collecting dtale\n",
      "  Downloading dtale-2.8.1-py2.py3-none-any.whl (12.8 MB)\n",
      "Requirement already satisfied: openpyxl in c:\\system.sav\\anaconda\\lib\\site-packages (from dtale) (3.0.9)\n",
      "Requirement already satisfied: dash-daq in c:\\system.sav\\anaconda\\lib\\site-packages (from dtale) (0.5.0)\n",
      "Requirement already satisfied: Flask-Compress in c:\\system.sav\\anaconda\\lib\\site-packages (from dtale) (1.12)\n",
      "Requirement already satisfied: certifi in c:\\system.sav\\anaconda\\lib\\site-packages (from dtale) (2021.10.8)\n",
      "Requirement already satisfied: pandas in c:\\system.sav\\anaconda\\lib\\site-packages (from dtale) (1.3.4)\n",
      "Requirement already satisfied: cycler in c:\\system.sav\\anaconda\\lib\\site-packages (from dtale) (0.10.0)\n",
      "Requirement already satisfied: six in c:\\system.sav\\anaconda\\lib\\site-packages (from dtale) (1.16.0)\n",
      "Requirement already satisfied: scikit-learn in c:\\system.sav\\anaconda\\lib\\site-packages (from dtale) (0.24.2)\n",
      "Requirement already satisfied: lz4 in c:\\system.sav\\anaconda\\lib\\site-packages (from dtale) (4.0.0)\n",
      "Requirement already satisfied: future>=0.14.0 in c:\\system.sav\\anaconda\\lib\\site-packages (from dtale) (0.18.2)\n",
      "Requirement already satisfied: xlrd in c:\\system.sav\\anaconda\\lib\\site-packages (from dtale) (2.0.1)\n",
      "Requirement already satisfied: dash-colorscales in c:\\system.sav\\anaconda\\lib\\site-packages (from dtale) (0.0.4)\n",
      "Requirement already satisfied: scipy in c:\\system.sav\\anaconda\\lib\\site-packages (from dtale) (1.7.1)\n",
      "Requirement already satisfied: flask-ngrok in c:\\system.sav\\anaconda\\lib\\site-packages (from dtale) (0.0.25)\n",
      "Requirement already satisfied: squarify in c:\\system.sav\\anaconda\\lib\\site-packages (from dtale) (0.4.3)\n",
      "Requirement already satisfied: strsimpy in c:\\system.sav\\anaconda\\lib\\site-packages (from dtale) (0.2.1)\n",
      "Requirement already satisfied: et-xmlfile in c:\\system.sav\\anaconda\\lib\\site-packages (from dtale) (1.1.0)\n",
      "Requirement already satisfied: kaleido in c:\\system.sav\\anaconda\\lib\\site-packages (from dtale) (0.2.1)\n",
      "Requirement already satisfied: dash>=2.0.0 in c:\\system.sav\\anaconda\\lib\\site-packages (from dtale) (2.3.1)\n",
      "Requirement already satisfied: networkx in c:\\system.sav\\anaconda\\lib\\site-packages (from dtale) (2.6.3)\n",
      "Requirement already satisfied: numpy in c:\\system.sav\\anaconda\\lib\\site-packages (from dtale) (1.20.3)\n",
      "Requirement already satisfied: dash-bootstrap-components in c:\\system.sav\\anaconda\\lib\\site-packages (from dtale) (1.1.0)\n",
      "Requirement already satisfied: xarray in c:\\system.sav\\anaconda\\lib\\site-packages (from dtale) (2022.3.0)\n",
      "Requirement already satisfied: itsdangerous in c:\\system.sav\\anaconda\\lib\\site-packages (from dtale) (2.0.1)\n",
      "Requirement already satisfied: missingno<=0.4.2 in c:\\system.sav\\anaconda\\lib\\site-packages (from dtale) (0.4.2)\n",
      "Requirement already satisfied: requests in c:\\system.sav\\anaconda\\lib\\site-packages (from dtale) (2.26.0)\n",
      "Requirement already satisfied: matplotlib in c:\\system.sav\\anaconda\\lib\\site-packages (from dtale) (3.4.3)\n",
      "Requirement already satisfied: plotly>=5.0.0 in c:\\system.sav\\anaconda\\lib\\site-packages (from dtale) (5.6.0)\n",
      "Requirement already satisfied: statsmodels in c:\\system.sav\\anaconda\\lib\\site-packages (from dtale) (0.12.2)\n",
      "Requirement already satisfied: seaborn in c:\\system.sav\\anaconda\\lib\\site-packages (from dtale) (0.11.2)\n",
      "Requirement already satisfied: Flask in c:\\system.sav\\anaconda\\lib\\site-packages (from dtale) (1.1.2)\n",
      "Requirement already satisfied: dash-html-components==2.0.0 in c:\\system.sav\\anaconda\\lib\\site-packages (from dash>=2.0.0->dtale) (2.0.0)\n",
      "Requirement already satisfied: dash-table==5.0.0 in c:\\system.sav\\anaconda\\lib\\site-packages (from dash>=2.0.0->dtale) (5.0.0)\n",
      "Requirement already satisfied: dash-core-components==2.0.0 in c:\\system.sav\\anaconda\\lib\\site-packages (from dash>=2.0.0->dtale) (2.0.0)\n",
      "Requirement already satisfied: Werkzeug>=0.15 in c:\\system.sav\\anaconda\\lib\\site-packages (from Flask->dtale) (2.0.2)\n",
      "Requirement already satisfied: click>=5.1 in c:\\system.sav\\anaconda\\lib\\site-packages (from Flask->dtale) (8.0.3)\n",
      "Requirement already satisfied: Jinja2>=2.10.1 in c:\\system.sav\\anaconda\\lib\\site-packages (from Flask->dtale) (2.11.3)\n",
      "Requirement already satisfied: colorama in c:\\system.sav\\anaconda\\lib\\site-packages (from click>=5.1->Flask->dtale) (0.4.4)\n",
      "Requirement already satisfied: MarkupSafe>=0.23 in c:\\system.sav\\anaconda\\lib\\site-packages (from Jinja2>=2.10.1->Flask->dtale) (1.1.1)\n",
      "Requirement already satisfied: tenacity>=6.2.0 in c:\\system.sav\\anaconda\\lib\\site-packages (from plotly>=5.0.0->dtale) (8.0.1)\n",
      "Requirement already satisfied: brotli in c:\\system.sav\\anaconda\\lib\\site-packages (from Flask-Compress->dtale) (1.0.9)\n",
      "Requirement already satisfied: pyparsing>=2.2.1 in c:\\system.sav\\anaconda\\lib\\site-packages (from matplotlib->dtale) (3.0.4)\n",
      "Requirement already satisfied: pillow>=6.2.0 in c:\\system.sav\\anaconda\\lib\\site-packages (from matplotlib->dtale) (8.4.0)\n",
      "Requirement already satisfied: kiwisolver>=1.0.1 in c:\\system.sav\\anaconda\\lib\\site-packages (from matplotlib->dtale) (1.3.1)\n",
      "Requirement already satisfied: python-dateutil>=2.7 in c:\\system.sav\\anaconda\\lib\\site-packages (from matplotlib->dtale) (2.8.2)\n",
      "Requirement already satisfied: pytz>=2017.3 in c:\\system.sav\\anaconda\\lib\\site-packages (from pandas->dtale) (2021.3)\n",
      "Requirement already satisfied: idna<4,>=2.5 in c:\\system.sav\\anaconda\\lib\\site-packages (from requests->dtale) (3.2)\n",
      "Requirement already satisfied: urllib3<1.27,>=1.21.1 in c:\\system.sav\\anaconda\\lib\\site-packages (from requests->dtale) (1.26.7)\n",
      "Requirement already satisfied: charset-normalizer~=2.0.0 in c:\\system.sav\\anaconda\\lib\\site-packages (from requests->dtale) (2.0.4)\n",
      "Requirement already satisfied: threadpoolctl>=2.0.0 in c:\\system.sav\\anaconda\\lib\\site-packages (from scikit-learn->dtale) (2.2.0)\n",
      "Requirement already satisfied: joblib>=0.11 in c:\\system.sav\\anaconda\\lib\\site-packages (from scikit-learn->dtale) (1.1.0)\n",
      "Requirement already satisfied: patsy>=0.5 in c:\\system.sav\\anaconda\\lib\\site-packages (from statsmodels->dtale) (0.5.2)\n",
      "Requirement already satisfied: packaging>=20.0 in c:\\system.sav\\anaconda\\lib\\site-packages (from xarray->dtale) (21.0)\n",
      "Installing collected packages: dtale\n",
      "  Attempting uninstall: dtale\n",
      "    Found existing installation: dtale 2.4.0\n",
      "    Uninstalling dtale-2.4.0:\n",
      "      Successfully uninstalled dtale-2.4.0\n",
      "Successfully installed dtale-2.8.1\n"
     ]
    }
   ],
   "source": [
    "! pip install -U dtale"
   ]
  },
  {
   "cell_type": "code",
   "execution_count": 4,
   "metadata": {
    "id": "SGHGnH06aOvd"
   },
   "outputs": [],
   "source": [
    "import pandas as pd\n",
    "import seaborn as sns\n",
    "df=sns.load_dataset('tips')\n",
    "# Penguins\n",
    "#df = pd.read_csv('https://raw.githubusercontent.com/dataprofessor/data/master/penguins_size.csv')\n"
   ]
  },
  {
   "cell_type": "code",
   "execution_count": 6,
   "metadata": {
    "colab": {
     "base_uri": "https://localhost:8080/"
    },
    "id": "Sofn4u2gae2P",
    "outputId": "6385251a-49a0-4833-82b5-8f30cb34d5ee"
   },
   "outputs": [
    {
     "data": {
      "text/html": [
       "\n",
       "        <iframe\n",
       "            width=\"100%\"\n",
       "            height=\"475\"\n",
       "            src=\"http://00ee-2409-4042-2e9c-abe6-a95f-f1a-62b2-1042.ngrok.io/dtale/iframe/2\"\n",
       "            frameborder=\"0\"\n",
       "            allowfullscreen\n",
       "            \n",
       "        ></iframe>\n",
       "        "
      ],
      "text/plain": [
       "<IPython.lib.display.IFrame at 0x2197c0dc4f0>"
      ]
     },
     "metadata": {},
     "output_type": "display_data"
    },
    {
     "data": {
      "text/plain": []
     },
     "execution_count": 6,
     "metadata": {},
     "output_type": "execute_result"
    }
   ],
   "source": [
    "import dtale\n",
    "import dtale.app as dtale_app\n",
    "\n",
    "dtale_app.USE_NGROK = True\n",
    "dtale.show(df)\n"
   ]
  },
  {
   "cell_type": "code",
   "execution_count": 14,
   "metadata": {
    "id": "jtNqAuSPaiMr"
   },
   "outputs": [],
   "source": []
  },
  {
   "cell_type": "code",
   "execution_count": 14,
   "metadata": {
    "id": "1IsaJVpNdb8L"
   },
   "outputs": [],
   "source": []
  }
 ],
 "metadata": {
  "colab": {
   "name": "Untitled1.ipynb",
   "provenance": []
  },
  "kernelspec": {
   "display_name": "Python 3 (ipykernel)",
   "language": "python",
   "name": "python3"
  },
  "language_info": {
   "codemirror_mode": {
    "name": "ipython",
    "version": 3
   },
   "file_extension": ".py",
   "mimetype": "text/x-python",
   "name": "python",
   "nbconvert_exporter": "python",
   "pygments_lexer": "ipython3",
   "version": "3.9.7"
  }
 },
 "nbformat": 4,
 "nbformat_minor": 1
}
